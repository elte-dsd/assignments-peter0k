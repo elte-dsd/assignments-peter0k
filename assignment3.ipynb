{
 "cells": [
  {
   "cell_type": "code",
   "execution_count": 313,
   "metadata": {},
   "outputs": [],
   "source": [
    "import copy\n",
    "import operator\n",
    "import numpy as np\n",
    "from sklearn import datasets\n",
    "from sklearn.preprocessing import minmax_scale\n",
    "from sklearn.ensemble import RandomForestClassifier\n",
    "from sklearn.utils.random import sample_without_replacement"
   ]
  },
  {
   "cell_type": "code",
   "execution_count": 314,
   "metadata": {},
   "outputs": [
    {
     "name": "stdout",
     "output_type": "stream",
     "text": [
      "(150, 2)\n",
      "(150,)\n"
     ]
    }
   ],
   "source": [
    "iris = datasets.load_iris()\n",
    "X, y = iris.data[:, 1:3], iris.target\n",
    "print X.shape\n",
    "print y.shape"
   ]
  },
  {
   "cell_type": "code",
   "execution_count": 315,
   "metadata": {
    "scrolled": false
   },
   "outputs": [
    {
     "name": "stdout",
     "output_type": "stream",
     "text": [
      "[0.000244140625, 0.03125, 0.000244140625, 0.00048828125, 0.0078125, 0.001953125, 0.0078125, 0.015625, 0.00390625, 0.03125, 0.5, 0.0078125, 0.5, 0.25, 0.125, 0.03125, 0.125, 1, 0.0625, 1, 0.0078125, 0.5, 0.25, 0.5, 1, 1, 0.5, 0.5, 0.25, 0.5, 0.5, 0.5, 1, 1]\n"
     ]
    }
   ],
   "source": [
    "np.random.seed(123)\n",
    "\n",
    "def sow(list):\n",
    "    \"\"\"sum of class weights\"\"\"\n",
    "    s = 0\n",
    "    for i in range(len(list)):\n",
    "        s += np.array(list[i][0])\n",
    "    return s\n",
    "\n",
    "\n",
    "def CNE(X,y):\n",
    "    \"\"\"CNE create new expert\"\"\"\n",
    "    clf = RandomForestClassifier()\n",
    "    sample = sample_without_replacement(150,60)\n",
    "    A = X[sample,:]\n",
    "    b = y[sample]\n",
    "    return clf.fit(A,b)\n",
    "\n",
    "\n",
    "beta = 0.5\n",
    "\n",
    "#pool of experts\n",
    "e = [] \n",
    "\n",
    "# create first expert\n",
    "e.append(copy.deepcopy(CNE(X,y)))\n",
    "w = [1]\n",
    "wsum = []\n",
    "\n",
    "\n",
    "for i in range(0,np.size(X,0)):\n",
    "    for j in range(len(e)):\n",
    "        llocal = e[j].predict(X[i,:].reshape(1, -1))[0] \n",
    "        if llocal!=y[i]:\n",
    "            w[j] = w[j]*beta\n",
    "            wsum.append(e[j].predict_proba(X[i,:].reshape(1, -1))*w[j])\n",
    "\n",
    "    if len(wsum):\n",
    "        index, value = max(enumerate(sow(wsum)), key=operator.itemgetter(1))\n",
    "        lglobal = index\n",
    "    else:\n",
    "        lglobal = e[j].predict(X[i,:].reshape(1, -1))[0]\n",
    "        \n",
    "    if lglobal != y[i]:\n",
    "        m += 1\n",
    "        e.append(copy.deepcopy(CNE(X,y)))\n",
    "        w += [1]\n",
    "    #scaling weights, w = minmax_scale(w)\n",
    "    #print w\n",
    "    #train single examples\n",
    "    wsum = []\n",
    "print w"
   ]
  },
  {
   "cell_type": "code",
   "execution_count": null,
   "metadata": {},
   "outputs": [],
   "source": []
  }
 ],
 "metadata": {
  "kernelspec": {
   "display_name": "Python 2",
   "language": "python",
   "name": "python2"
  },
  "language_info": {
   "codemirror_mode": {
    "name": "ipython",
    "version": 2
   },
   "file_extension": ".py",
   "mimetype": "text/x-python",
   "name": "python",
   "nbconvert_exporter": "python",
   "pygments_lexer": "ipython2",
   "version": "2.7.12"
  }
 },
 "nbformat": 4,
 "nbformat_minor": 2
}
